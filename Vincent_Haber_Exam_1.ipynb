{
 "cells": [
  {
   "cell_type": "code",
   "execution_count": 3,
   "id": "add0e350",
   "metadata": {},
   "outputs": [
    {
     "name": "stdout",
     "output_type": "stream",
     "text": [
      "['batman', 'superman', 'spiderman']\n",
      "batman\n",
      "wonderwoman\n",
      "['superman', 'spiderman', 'wonderwoman']\n"
     ]
    }
   ],
   "source": [
    "heroes = ['batman','superman','spiderman']\n",
    "print(heroes)\n",
    "heroes.index('batman')\n",
    "print(heroes[0])\n",
    "heroes.append('wonderwoman')\n",
    "heroes.remove('batman')\n",
    "print(heroes[2])\n",
    "heroes.index('superman')\n",
    "print(heroes)"
   ]
  },
  {
   "cell_type": "code",
   "execution_count": 5,
   "id": "e2eb04c9",
   "metadata": {},
   "outputs": [
    {
     "name": "stdout",
     "output_type": "stream",
     "text": [
      "True\n",
      "True\n",
      "True\n",
      "False\n"
     ]
    }
   ],
   "source": [
    "heroes = ['Batman','Superman','Spiderman']\n",
    "print('Batman' in heroes)\n",
    "print('Ironman' not in heroes)\n",
    "hero = 'Superman'\n",
    "print(hero in heroes)\n",
    "print('Ironman' not in ['Captain America','Ironman','Hulk'])"
   ]
  },
  {
   "cell_type": "code",
   "execution_count": 7,
   "id": "c4a3b060",
   "metadata": {},
   "outputs": [
    {
     "name": "stdout",
     "output_type": "stream",
     "text": [
      "['Batman', 'Superman', 'Spiderman', 'Captain America', 'Ironman', 'Hulk']\n",
      "['Captain America', 'Ironman']\n"
     ]
    }
   ],
   "source": [
    "heroes1 = ['Batman','Superman','Spiderman']\n",
    "heroes2 = ['Captain America','Ironman','Hulk']\n",
    "print(heroes1 + heroes2)\n",
    "heroes = heroes1 + heroes2\n",
    "heroes2.remove('Hulk')\n",
    "print(heroes2)"
   ]
  },
  {
   "cell_type": "code",
   "execution_count": 9,
   "id": "2e28ea3b",
   "metadata": {},
   "outputs": [
    {
     "name": "stdout",
     "output_type": "stream",
     "text": [
      "['Batman', 'Captain America', 'Hulk', 'Ironman', 'Spiderman', 'Superman']\n"
     ]
    }
   ],
   "source": [
    "heroes = ['Batman','Superman','Spiderman','Captain America','Ironman','Hulk']\n",
    "heroes.sort()\n",
    "print(heroes)"
   ]
  },
  {
   "cell_type": "code",
   "execution_count": 10,
   "id": "270ed7b7",
   "metadata": {},
   "outputs": [
    {
     "name": "stdout",
     "output_type": "stream",
     "text": [
      "['Hulk', 'Ironman', 'Captain America', 'Spiderman', 'Superman', 'Batman']\n"
     ]
    }
   ],
   "source": [
    "heroes = ['Batman','Superman','Spiderman','Captain America','Ironman','Hulk']\n",
    "heroes.reverse()\n",
    "print(heroes)"
   ]
  },
  {
   "cell_type": "code",
   "execution_count": 11,
   "id": "612a59b9",
   "metadata": {},
   "outputs": [
    {
     "name": "stdout",
     "output_type": "stream",
     "text": [
      "['Batman', 'Captain America', 'Hulk', 'Ironman', 'Spiderman', 'Superman']\n",
      "['Hulk', 'Ironman', 'Captain America', 'Spiderman', 'Superman', 'Batman']\n"
     ]
    }
   ],
   "source": [
    "heroes = ['Batman','Superman','Spiderman','Captain America','Ironman','Hulk']\n",
    "print(sorted(heroes))\n",
    "print(list(reversed(heroes)))"
   ]
  },
  {
   "cell_type": "code",
   "execution_count": 12,
   "id": "fd0bd100",
   "metadata": {},
   "outputs": [
    {
     "name": "stdout",
     "output_type": "stream",
     "text": [
      "my hero is Batman\n",
      "my hero is Superman\n",
      "my hero is Spiderman\n",
      "my hero is Captain America\n",
      "my hero is Ironman\n",
      "my hero is Hulk\n"
     ]
    }
   ],
   "source": [
    "heroes = ['Batman','Superman','Spiderman','Captain America','Ironman','Hulk']\n",
    "for hero in heroes:\n",
    "    print(\"my hero is {}\".format(hero))"
   ]
  },
  {
   "cell_type": "code",
   "execution_count": 14,
   "id": "886353a8",
   "metadata": {},
   "outputs": [
    {
     "name": "stdout",
     "output_type": "stream",
     "text": [
      "my hero is Batman\n",
      "my hero is Superman\n",
      "my hero is Spiderman\n",
      "my hero is Captain America\n",
      "my hero is Ironman\n",
      "my hero is Hulk\n"
     ]
    }
   ],
   "source": [
    "heroes = ['Batman','Superman','Spiderman','Captain America','Ironman','Hulk']\n",
    "for hero in heroes:\n",
    "    print(f\"my hero is {hero}\")"
   ]
  },
  {
   "cell_type": "code",
   "execution_count": 15,
   "id": "a4e0d343",
   "metadata": {},
   "outputs": [
    {
     "name": "stdout",
     "output_type": "stream",
     "text": [
      "21\n"
     ]
    }
   ],
   "source": [
    "numbers = [1,2,3,4,5,6]\n",
    "total = 0\n",
    "for number in numbers:\n",
    "    total = total + number\n",
    "print(total)"
   ]
  },
  {
   "cell_type": "code",
   "execution_count": 16,
   "id": "47f44a76",
   "metadata": {},
   "outputs": [
    {
     "name": "stdout",
     "output_type": "stream",
     "text": [
      "21\n"
     ]
    }
   ],
   "source": [
    "numbers = [1,2,3,4,5,6]\n",
    "total = sum(numbers)\n",
    "print(total)"
   ]
  },
  {
   "cell_type": "code",
   "execution_count": 20,
   "id": "6acdd742",
   "metadata": {},
   "outputs": [
    {
     "name": "stdout",
     "output_type": "stream",
     "text": [
      "enter your age -2\n",
      "thats is not valid age\n"
     ]
    }
   ],
   "source": [
    "age = input('enter your age ')\n",
    "age = int(age)\n",
    "if age >=100:\n",
    "       print('that is not a valid age')\n",
    "elif age >=18:\n",
    "       print('you are old enough to drive')\n",
    "elif age <=0:\n",
    "        print('thats is not valid age')\n",
    "else:\n",
    "     print('you are not old enough to drive')"
   ]
  },
  {
   "cell_type": "code",
   "execution_count": 18,
   "id": "2f209520",
   "metadata": {},
   "outputs": [
    {
     "name": "stdout",
     "output_type": "stream",
     "text": [
      "enter your age 21\n",
      "you are old enough to drive\n"
     ]
    }
   ],
   "source": [
    "age = input('enter your age ')\n",
    "age = int(age)\n",
    "if age >=100 or age <=0:\n",
    "       print('that is not a valid age')\n",
    "elif age >=18:\n",
    "       print('you are old enough to drive')\n",
    "else:\n",
    "     print('you are not old enough to drive')"
   ]
  },
  {
   "cell_type": "code",
   "execution_count": 23,
   "id": "a49a717f",
   "metadata": {},
   "outputs": [
    {
     "name": "stdout",
     "output_type": "stream",
     "text": [
      "200 is greather than 100\n"
     ]
    }
   ],
   "source": [
    "numbers = [200, 100, 43, 10, -10, 0]\n",
    "for number in numbers:\n",
    "    if number > 100:\n",
    "        print(f\"{number} is greather than 100\")"
   ]
  },
  {
   "cell_type": "code",
   "execution_count": 22,
   "id": "0e0ccc55",
   "metadata": {},
   "outputs": [
    {
     "name": "stdout",
     "output_type": "stream",
     "text": [
      "200 is greather than 100\n",
      "43 is lessthan 100\n",
      "10 is lessthan 100\n",
      "-10 is lessthan 100\n",
      "0 is lessthan 100\n"
     ]
    }
   ],
   "source": [
    "numbers = [200, 100, 43, 10, -10, 0]\n",
    "for number in numbers:\n",
    "    if number > 100:\n",
    "        print(f\"{number} is greather than 100\")\n",
    "    elif number <100:\n",
    "        print(f\"{number} is lessthan 100\")"
   ]
  },
  {
   "cell_type": "code",
   "execution_count": 24,
   "id": "fb3b2bf3",
   "metadata": {},
   "outputs": [
    {
     "name": "stdout",
     "output_type": "stream",
     "text": [
      "[200, 100, 43]\n"
     ]
    }
   ],
   "source": [
    "numbers =[200, 100, 43, 10, -10, 0]\n",
    "filtered = []\n",
    "\n",
    "for number in numbers:\n",
    "    if number > 30:\n",
    "        filtered.append(number)\n",
    "print(filtered)"
   ]
  },
  {
   "cell_type": "code",
   "execution_count": null,
   "id": "9dc75d4f",
   "metadata": {},
   "outputs": [],
   "source": []
  }
 ],
 "metadata": {
  "kernelspec": {
   "display_name": "Python 3",
   "language": "python",
   "name": "python3"
  },
  "language_info": {
   "codemirror_mode": {
    "name": "ipython",
    "version": 3
   },
   "file_extension": ".py",
   "mimetype": "text/x-python",
   "name": "python",
   "nbconvert_exporter": "python",
   "pygments_lexer": "ipython3",
   "version": "3.8.8"
  }
 },
 "nbformat": 4,
 "nbformat_minor": 5
}
