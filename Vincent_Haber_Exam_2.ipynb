{
 "cells": [
  {
   "cell_type": "code",
   "execution_count": 31,
   "id": "2d925434",
   "metadata": {},
   "outputs": [
    {
     "name": "stdout",
     "output_type": "stream",
     "text": [
      "1 is odd\n",
      "2 is even\n",
      "3 is odd\n",
      "4 is even\n",
      "5 is odd\n",
      "6 is even\n"
     ]
    }
   ],
   "source": [
    "numbers = [1,2,3,4,5,6]\n",
    "\n",
    "for number in numbers:\n",
    "    if(number%2) == 0:\n",
    "        print(f\"{number} is even\")\n",
    "    else:\n",
    "        print(f\"{number} is odd\")\n",
    "#they determine the odd and even numbers of the following samples"
   ]
  },
  {
   "cell_type": "code",
   "execution_count": 10,
   "id": "ada25220",
   "metadata": {
    "scrolled": true
   },
   "outputs": [
    {
     "name": "stdout",
     "output_type": "stream",
     "text": [
      "[2, 4, 6]\n",
      "[1, 3, 5]\n"
     ]
    }
   ],
   "source": [
    "numbers = [1,2,3,4,5,6]\n",
    "evens = []\n",
    "odd = []\n",
    "\n",
    "for number in numbers:\n",
    "    if (number%2) == 0:\n",
    "        evens.append(number)\n",
    "        \n",
    "for number in numbers:\n",
    "    if (number%2) != 0:\n",
    "        odd.append(number)\n",
    "        \n",
    "print(evens)\n",
    "print(odd)\n",
    "#they also determine the odd and even but in other procedure "
   ]
  },
  {
   "cell_type": "code",
   "execution_count": 11,
   "id": "857e5be0",
   "metadata": {},
   "outputs": [
    {
     "name": "stdout",
     "output_type": "stream",
     "text": [
      "[2, 4, 6, 8, 10, 12]\n"
     ]
    }
   ],
   "source": [
    "numbers = [1,2,3,4,5,6]\n",
    "doubles = []\n",
    "\n",
    "for number in numbers:\n",
    "    number *= 2\n",
    "    doubles.append(number)\n",
    "    \n",
    "print(doubles)\n",
    "#they all numbers are multiples by 2*"
   ]
  },
  {
   "cell_type": "code",
   "execution_count": 13,
   "id": "f722633d",
   "metadata": {},
   "outputs": [
    {
     "name": "stdout",
     "output_type": "stream",
     "text": [
      "[2, 4, 6]\n",
      "[1, 3, 5]\n"
     ]
    }
   ],
   "source": [
    "numbers = [1,2,3,4,5,6]\n",
    "\n",
    "evens = [number for number in numbers if (number % 2) == 0]\n",
    "odd = [number for number in numbers if (number % 2) != 0]\n",
    "\n",
    "print(evens)\n",
    "print(odd)\n",
    "#determine the odd and even in other way!"
   ]
  },
  {
   "cell_type": "code",
   "execution_count": 14,
   "id": "74edb827",
   "metadata": {},
   "outputs": [
    {
     "name": "stdout",
     "output_type": "stream",
     "text": [
      "[2, 4, 6, 8, 10, 12]\n"
     ]
    }
   ],
   "source": [
    "numbers = [1,2,3,4,5,6]\n",
    "doubles = [number * 2 for number in numbers]\n",
    "print(doubles)\n",
    "#multiples all numbers by two"
   ]
  },
  {
   "cell_type": "code",
   "execution_count": 15,
   "id": "2e674e07",
   "metadata": {},
   "outputs": [
    {
     "name": "stdout",
     "output_type": "stream",
     "text": [
      "[5, 3, 5]\n"
     ]
    }
   ],
   "source": [
    "name_lenght = []\n",
    "names = [\"alice\",\"bob\",\"carol\"]\n",
    "name_lenght = [len(name) for name in names]\n",
    "\n",
    "print(name_lenght)\n",
    "#determine the length of each name of the given names!"
   ]
  },
  {
   "cell_type": "code",
   "execution_count": 22,
   "id": "e2789178",
   "metadata": {},
   "outputs": [
    {
     "name": "stdout",
     "output_type": "stream",
     "text": [
      "alice have a length of 5\n"
     ]
    }
   ],
   "source": [
    "record = [\"alice\", 5]\n",
    "\n",
    "name, length = record\n",
    "\n",
    "print(f\"{name} have a length of {length}\")\n",
    "#also determine the length in the record"
   ]
  },
  {
   "cell_type": "code",
   "execution_count": 24,
   "id": "acbf34fe",
   "metadata": {},
   "outputs": [
    {
     "name": "stdout",
     "output_type": "stream",
     "text": [
      "alice have a length of 5\n",
      "bob have a length of 3\n",
      "carlo have a length of 5\n"
     ]
    }
   ],
   "source": [
    "records = [ [\"alice\", 5],[\"bob\", 3], [\"carlo\", 5]\n",
    "]\n",
    "for name,length in records:\n",
    "    print(f\"{name} have a length of {length}\")\n",
    "    \n",
    "#determine the length of the records with a sentence "
   ]
  },
  {
   "cell_type": "code",
   "execution_count": 25,
   "id": "c4f20ffb",
   "metadata": {},
   "outputs": [
    {
     "name": "stdout",
     "output_type": "stream",
     "text": [
      "alice have a length of 5\n",
      "bob have a length of 3\n",
      "carlo have a length of 5\n",
      "<zip object at 0x0000022709DE0980>\n",
      "[('c', 5), ('a', 3), ('r', 5)]\n"
     ]
    }
   ],
   "source": [
    "names = [\"alice\", \"bob\", \"carlo\"]\n",
    "name_length = [5, 3, 5]\n",
    "\n",
    "for name, length in zip(names, name_length):\n",
    "    print(f\"{name} have a length of {length}\")\n",
    "    \n",
    "print(zip(name, name_length))\n",
    "print(list(zip(name, name_length)))\n",
    "#same method of determine of the length with using zip and list factions "
   ]
  },
  {
   "cell_type": "code",
   "execution_count": 30,
   "id": "1d71794c",
   "metadata": {},
   "outputs": [
    {
     "name": "stdout",
     "output_type": "stream",
     "text": [
      "alice have a length of 5. they are female. Ages are 15\n",
      "bob have a length of 3. they are male. Ages are 22\n",
      "carlo have a length of 5. they are female. Ages are 34\n"
     ]
    }
   ],
   "source": [
    "names = [\"alice\", \"bob\", \"carlo\", \"marvin\"]\n",
    "name_length = [5,3,5]\n",
    "genders = [\"female\", \"male\", \"female\"]\n",
    "ages = [15, 22, 34]\n",
    "\n",
    "for name, length, gender, age in zip(names, name_length, genders, ages):\n",
    "    print(f\"{name} have a length of {length}. they are {gender}. Ages are {age}\")\n",
    "    \n",
    "#same methods!\n"
   ]
  },
  {
   "cell_type": "code",
   "execution_count": null,
   "id": "ca364bb9",
   "metadata": {},
   "outputs": [],
   "source": []
  }
 ],
 "metadata": {
  "kernelspec": {
   "display_name": "Python 3",
   "language": "python",
   "name": "python3"
  },
  "language_info": {
   "codemirror_mode": {
    "name": "ipython",
    "version": 3
   },
   "file_extension": ".py",
   "mimetype": "text/x-python",
   "name": "python",
   "nbconvert_exporter": "python",
   "pygments_lexer": "ipython3",
   "version": "3.8.8"
  }
 },
 "nbformat": 4,
 "nbformat_minor": 5
}
